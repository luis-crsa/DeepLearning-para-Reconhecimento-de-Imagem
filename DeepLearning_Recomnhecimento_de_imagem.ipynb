{
  "nbformat": 4,
  "nbformat_minor": 0,
  "metadata": {
    "colab": {
      "provenance": []
    },
    "kernelspec": {
      "name": "python3",
      "display_name": "Python 3"
    },
    "language_info": {
      "name": "python"
    }
  },
  "cells": [
    {
      "cell_type": "markdown",
      "source": [
        "##Download de dataset"
      ],
      "metadata": {
        "id": "avVB-rNbQoWm"
      }
    },
    {
      "cell_type": "code",
      "execution_count": null,
      "metadata": {
        "colab": {
          "base_uri": "https://localhost:8080/"
        },
        "collapsed": true,
        "id": "b_LqahIMOJEx",
        "outputId": "99bf58e3-079b-48cf-8997-64c3a15680ec"
      },
      "outputs": [
        {
          "output_type": "stream",
          "name": "stdout",
          "text": [
            "Dataset URL: https://www.kaggle.com/datasets/caiojs/mnist-as-images-train-and-test\n",
            "License(s): DbCL-1.0\n",
            "mnist-as-images-train-and-test.zip: Skipping, found more recently modified local copy (use --force to force download)\n"
          ]
        }
      ],
      "source": [
        "!kaggle datasets download -d caiojs/mnist-as-images-train-and-test"
      ]
    },
    {
      "cell_type": "code",
      "source": [
        "!unzip /content/mnist-as-images-train-and-test.zip"
      ],
      "metadata": {
        "colab": {
          "base_uri": "https://localhost:8080/"
        },
        "collapsed": true,
        "id": "i6SeXMVfPSQM",
        "outputId": "e030a4b9-9f23-445c-98be-dd8881002340"
      },
      "execution_count": null,
      "outputs": [
        {
          "output_type": "stream",
          "name": "stdout",
          "text": [
            "Archive:  /content/mnist-as-images-train-and-test.zip\n",
            "replace test_images/0/10.jpg? [y]es, [n]o, [A]ll, [N]one, [r]ename: "
          ]
        }
      ]
    },
    {
      "cell_type": "markdown",
      "source": [
        "##Importando bibliotecas"
      ],
      "metadata": {
        "id": "IlfrsaC3Qwed"
      }
    },
    {
      "cell_type": "code",
      "source": [
        "!pip install keras"
      ],
      "metadata": {
        "colab": {
          "base_uri": "https://localhost:8080/"
        },
        "id": "q1jHfW1gTopO",
        "outputId": "5ffab214-e7f2-4026-dd6a-c4e6bc479daf"
      },
      "execution_count": null,
      "outputs": [
        {
          "output_type": "stream",
          "name": "stdout",
          "text": [
            "Requirement already satisfied: keras in /usr/local/lib/python3.10/dist-packages (3.4.1)\n",
            "Requirement already satisfied: absl-py in /usr/local/lib/python3.10/dist-packages (from keras) (1.4.0)\n",
            "Requirement already satisfied: numpy in /usr/local/lib/python3.10/dist-packages (from keras) (1.26.4)\n",
            "Requirement already satisfied: rich in /usr/local/lib/python3.10/dist-packages (from keras) (13.9.2)\n",
            "Requirement already satisfied: namex in /usr/local/lib/python3.10/dist-packages (from keras) (0.0.8)\n",
            "Requirement already satisfied: h5py in /usr/local/lib/python3.10/dist-packages (from keras) (3.11.0)\n",
            "Requirement already satisfied: optree in /usr/local/lib/python3.10/dist-packages (from keras) (0.13.0)\n",
            "Requirement already satisfied: ml-dtypes in /usr/local/lib/python3.10/dist-packages (from keras) (0.4.1)\n",
            "Requirement already satisfied: packaging in /usr/local/lib/python3.10/dist-packages (from keras) (24.1)\n",
            "Requirement already satisfied: typing-extensions>=4.5.0 in /usr/local/lib/python3.10/dist-packages (from optree->keras) (4.12.2)\n",
            "Requirement already satisfied: markdown-it-py>=2.2.0 in /usr/local/lib/python3.10/dist-packages (from rich->keras) (3.0.0)\n",
            "Requirement already satisfied: pygments<3.0.0,>=2.13.0 in /usr/local/lib/python3.10/dist-packages (from rich->keras) (2.18.0)\n",
            "Requirement already satisfied: mdurl~=0.1 in /usr/local/lib/python3.10/dist-packages (from markdown-it-py>=2.2.0->rich->keras) (0.1.2)\n"
          ]
        }
      ]
    },
    {
      "cell_type": "code",
      "source": [
        "import pandas as pd #Base de manipulação de dados em formato de\n",
        "import os #Interagir com sistema operacional (manipular caminhos)\n",
        "import numpy as np #Manipular valores e operações numéricas (arrays, listas)\n",
        "import seaborn as sns\n",
        "import matplotlib.pyplot as plt\n",
        "from tqdm import tqdm\n",
        "\n",
        "##bibliotecas para trabalhar com imagens\n",
        "import cv2 #open cv(visão domputacional) processa imagens e vídeos\n",
        "from PIL import Image #PIllow (image) manipular arquivos de imagem\n",
        "\n",
        "#bibliotecas para trabalhar com deeplearning\n",
        "from sklearn.model_selection import train_test_split\n",
        "from sklearn.metrics import confusion_matrix\n",
        "\n",
        "from keras.models import Sequential #type: ignore\n",
        "from keras.layers import Conv2D, MaxPool2D, Dense, Flatten, Dropout #type: ignore\n",
        "from keras.utils import to_categorical #type: ignore"
      ],
      "metadata": {
        "id": "tHdKtrfiPghA"
      },
      "execution_count": null,
      "outputs": []
    },
    {
      "cell_type": "markdown",
      "source": [
        "## Exploração dos dados"
      ],
      "metadata": {
        "id": "5b0DJ6FbUKDl"
      }
    },
    {
      "cell_type": "code",
      "source": [
        "imgPIL = Image.open('/content/test_images/0/10.jpg')\n",
        "imgPIL"
      ],
      "metadata": {
        "colab": {
          "base_uri": "https://localhost:8080/",
          "height": 45
        },
        "id": "Ygtv9KfwUMxy",
        "outputId": "ab7a04ab-9fc1-4e05-e04e-009ee0b6f6d3"
      },
      "execution_count": null,
      "outputs": [
        {
          "output_type": "execute_result",
          "data": {
            "text/plain": [
              "<PIL.JpegImagePlugin.JpegImageFile image mode=L size=28x28>"
            ],
            "image/png": "[encoded data removed]",
            "image/jpeg": "[encoded data removed]"
          },
          "metadata": {},
          "execution_count": 7
        }
      ]
    },
    {
      "cell_type": "code",
      "source": [
        "imgCV = cv2.imread('/content/test_images/3/1020.jpg')\n",
        "imgCV"
      ],
      "metadata": {
        "colab": {
          "base_uri": "https://localhost:8080/",
          "height": 69
        },
        "id": "ExvIElq8UyP7",
        "outputId": "4f6d1649-c827-4095-c73b-be52f277c99b"
      },
      "execution_count": null,
      "outputs": [
        {
          "output_type": "execute_result",
          "data": {
            "text/plain": [
              "array([[[1, 1, 1],\n",
              "        [0, 0, 0],\n",
              "        [0, 0, 0],\n",
              "        ...,\n",
              "        [0, 0, 0],\n",
              "        [0, 0, 0],\n",
              "        [0, 0, 0]],\n",
              "\n",
              "       [[3, 3, 3],\n",
              "        [0, 0, 0],\n",
              "        [2, 2, 2],\n",
              "        ...,\n",
              "        [0, 0, 0],\n",
              "        [0, 0, 0],\n",
              "        [0, 0, 0]],\n",
              "\n",
              "       [[1, 1, 1],\n",
              "        [0, 0, 0],\n",
              "        [0, 0, 0],\n",
              "        ...,\n",
              "        [0, 0, 0],\n",
              "        [0, 0, 0],\n",
              "        [0, 0, 0]],\n",
              "\n",
              "       ...,\n",
              "\n",
              "       [[0, 0, 0],\n",
              "        [0, 0, 0],\n",
              "        [0, 0, 0],\n",
              "        ...,\n",
              "        [0, 0, 0],\n",
              "        [0, 0, 0],\n",
              "        [0, 0, 0]],\n",
              "\n",
              "       [[0, 0, 0],\n",
              "        [0, 0, 0],\n",
              "        [0, 0, 0],\n",
              "        ...,\n",
              "        [0, 0, 0],\n",
              "        [0, 0, 0],\n",
              "        [0, 0, 0]],\n",
              "\n",
              "       [[0, 0, 0],\n",
              "        [0, 0, 0],\n",
              "        [0, 0, 0],\n",
              "        ...,\n",
              "        [0, 0, 0],\n",
              "        [0, 0, 0],\n",
              "        [0, 0, 0]]], dtype=uint8)"
            ],
            "text/html": [
              "<style>\n",
              "      .ndarray_repr .ndarray_raw_data {\n",
              "        display: none;\n",
              "      }\n",
              "      .ndarray_repr.show_array .ndarray_raw_data {\n",
              "        display: block;\n",
              "      }\n",
              "      .ndarray_repr.show_array .ndarray_image_preview {\n",
              "        display: none;\n",
              "      }\n",
              "      </style>\n",
              "      <div id=\"id-5d664255-76c8-4c2e-9d97-ffb38b0851f5\" class=\"ndarray_repr\"><pre>ndarray (28, 28, 3) <button style=\"padding: 0 2px;\">show data</button></pre><img src=\"data:image/png;base64,iVBORw0KGgoAAAANSUhEUgAAABwAAAAcCAIAAAD9b0jDAAADpklEQVR4nJVVO0szTRQ+M3uZnexuEpNIREG0stDGQrQQbBRESwv1J1hZ2FmolaBlyA/wVoqN2KSykUA6rQIaVIKgBGSJidFskvMW53WMcfX73qc6Ozvn9pzLAGMMAACABMaYrusAYBgGAAgh6FzTNACwLIv+Ki3TNNs//4Juc8455xAEzjk5UJ/kUgihVMjIJzqdfPXnOA7JSlB2GWMUpkrr80KHA13XGWPkqdlsKpf1eh0AXNdVKSMiY0zTNF3Xfd//Eo6u6yp427bbM4rH4wAghLAsiwT6ZVkWXdM0zTCMYN7olHOu1Pr7+xcWFjY3NxGx1Wr5vo+IS0tL6rJpmu0VC+Cww9Xo6GgqlWo2m4h4fX19dXWVzWYLhYLv+/v7+/Pz8+1axCal8gVCCMVAOBxeX19HxNvb26mpqVgsJqUEgOHh4a2trWKxeHZ2FolElNFwOEwcdholb5xzqsDs7Ozj42MmkwGArq4uRTFjLJ1OX15eCiFisVi7YqdFxpht2ySrFhkYGIjFYqqNSJkxdnJygoiDg4NSSkouGo0KISjeTz4RkdqFlKlp7u7uyuVypVKhTyogIpZKJQBwXbdWq1FxPM97f38vl8sBubfzwhgj4ikvOqcBvbi4yOVyjuNEIhE1aZxz4v0TKnKVeztc11Xtcnp66nne0dERfEwBAHR3d8NPY8kYo7iklK7rapompVSxm6a5u7uLiIg4NjYWjUYBgIL9S+L3Wpmmqdq+w1MikQiHw4eHh9Vq9enpiezm8/lkMqmu9fT0BISp/EgpVRtTmCsrK4jYaDRqtRoi3tzcPDw8IOLr6+v29vbMzAzRGgqFAuwGwjCMdDr98vJycHCwuLhI2fT19S0vLxcKhbe3t2w2S4MQWI8fEY1GR0ZGdF2nDGiNAsDAwEAmkykWi4Zh/LI8A8yFQiFN0yiK76XY2dmpVqtzc3OmaXbY/TazH/A8jwREdBynUqkAgGmarVaLc65pmu/7zWbTcZx6va7reqPR+O9IOeeqGVUdLMtSlczlcvl8ngrV+Zz8jvZWU9WIRCKpVAoR19bWAMBxnIAtFQjaMuPj40NDQ7ZtK3InJydpEM7Pz+nk+zL90UO1WuWcr66uTk9Pe55XKpWEEFLKeDyeTCaPj4/39vb+gc12TExM5HI5GqTn52dEvL+/39jY6O3thY8H9R9aKpFIEKG0BBS5avkahvHTE/1/Ydv2L9UIXB0BoNfFMAy19ulcSqlSVtXrwB/+qS8HsZMs6gAAAABJRU5ErkJggg==\" class=\"ndarray_image_preview\" /><pre class=\"ndarray_raw_data\">array([[[1, 1, 1],\n",
              "        [0, 0, 0],\n",
              "        [0, 0, 0],\n",
              "        ...,\n",
              "        [0, 0, 0],\n",
              "        [0, 0, 0],\n",
              "        [0, 0, 0]],\n",
              "\n",
              "       [[3, 3, 3],\n",
              "        [0, 0, 0],\n",
              "        [2, 2, 2],\n",
              "        ...,\n",
              "        [0, 0, 0],\n",
              "        [0, 0, 0],\n",
              "        [0, 0, 0]],\n",
              "\n",
              "       [[1, 1, 1],\n",
              "        [0, 0, 0],\n",
              "        [0, 0, 0],\n",
              "        ...,\n",
              "        [0, 0, 0],\n",
              "        [0, 0, 0],\n",
              "        [0, 0, 0]],\n",
              "\n",
              "       ...,\n",
              "\n",
              "       [[0, 0, 0],\n",
              "        [0, 0, 0],\n",
              "        [0, 0, 0],\n",
              "        ...,\n",
              "        [0, 0, 0],\n",
              "        [0, 0, 0],\n",
              "        [0, 0, 0]],\n",
              "\n",
              "       [[0, 0, 0],\n",
              "        [0, 0, 0],\n",
              "        [0, 0, 0],\n",
              "        ...,\n",
              "        [0, 0, 0],\n",
              "        [0, 0, 0],\n",
              "        [0, 0, 0]],\n",
              "\n",
              "       [[0, 0, 0],\n",
              "        [0, 0, 0],\n",
              "        [0, 0, 0],\n",
              "        ...,\n",
              "        [0, 0, 0],\n",
              "        [0, 0, 0],\n",
              "        [0, 0, 0]]], dtype=uint8)</pre></div><script>\n",
              "      (() => {\n",
              "      const titles = ['show data', 'hide data'];\n",
              "      let index = 0\n",
              "      document.querySelector('#id-5d664255-76c8-4c2e-9d97-ffb38b0851f5 button').onclick = (e) => {\n",
              "        document.querySelector('#id-5d664255-76c8-4c2e-9d97-ffb38b0851f5').classList.toggle('show_array');\n",
              "        index = (++index) % 2;\n",
              "        document.querySelector('#id-5d664255-76c8-4c2e-9d97-ffb38b0851f5 button').textContent = titles[index];\n",
              "        e.preventDefault();\n",
              "        e.stopPropagation();\n",
              "      }\n",
              "      })();\n",
              "    </script>"
            ]
          },
          "metadata": {},
          "execution_count": 8
        }
      ]
    },
    {
      "cell_type": "code",
      "source": [
        "plt.imshow(imgCV)"
      ],
      "metadata": {
        "colab": {
          "base_uri": "https://localhost:8080/",
          "height": 447
        },
        "id": "N2HqWyqSVb2z",
        "outputId": "11fbaf44-d138-4a67-fd5a-21f56545640b"
      },
      "execution_count": null,
      "outputs": [
        {
          "output_type": "execute_result",
          "data": {
            "text/plain": [
              "<matplotlib.image.AxesImage at 0x7e69484f2920>"
            ]
          },
          "metadata": {},
          "execution_count": 9
        },
        {
          "output_type": "display_data",
          "data": {
            "text/plain": [
              "<Figure size 640x480 with 1 Axes>"
            ],
            "image/png": "[encoded data removed]"
          },
          "metadata": {}
        }
      ]
    },
    {
      "cell_type": "code",
      "source": [
        "imgCV.shape"
      ],
      "metadata": {
        "colab": {
          "base_uri": "https://localhost:8080/"
        },
        "id": "2wR-nvRKVl7j",
        "outputId": "229050c9-a0f3-4236-b227-9cacb20e7797"
      },
      "execution_count": null,
      "outputs": [
        {
          "output_type": "execute_result",
          "data": {
            "text/plain": [
              "(28, 28, 3)"
            ]
          },
          "metadata": {},
          "execution_count": 20
        }
      ]
    },
    {
      "cell_type": "code",
      "source": [
        "imgCV = cv2.cvtColor(imgCV, cv2.COLOR_BGR2GRAY)\n",
        "imgCV.shape"
      ],
      "metadata": {
        "colab": {
          "base_uri": "https://localhost:8080/"
        },
        "id": "T1shvvkSV0Pf",
        "outputId": "37c0e3d5-d3f5-4631-c072-1953c0fb7e4e"
      },
      "execution_count": null,
      "outputs": [
        {
          "output_type": "execute_result",
          "data": {
            "text/plain": [
              "(28, 28)"
            ]
          },
          "metadata": {},
          "execution_count": 27
        }
      ]
    },
    {
      "cell_type": "code",
      "source": [
        "imgPIL = np.array(imgPIL)\n",
        "imgPIL"
      ],
      "metadata": {
        "colab": {
          "base_uri": "https://localhost:8080/",
          "height": 69
        },
        "id": "sW0tQfRVWab0",
        "outputId": "738c38e1-2a06-40a5-cd1e-adafad0f0d7a"
      },
      "execution_count": null,
      "outputs": [
        {
          "output_type": "execute_result",
          "data": {
            "text/plain": [
              "array([[  0,   0,   0,   0,   0,   0,   0,   0,  12,   0,   9,   0,   1,\n",
              "          1,   1,   0,   0,   5,   4,   0,   0,   0,   2,   2,   0,   0,\n",
              "          0,   0],\n",
              "       [  0,   0,   0,   0,   0,   0,   0,   0,   0,  10,   0,   5,   0,\n",
              "          8,   4,   3,   3,   0,  12,   6,   0,  10,   2,   0,   0,   0,\n",
              "          0,   0],\n",
              "       [  0,   0,   0,   0,   0,   0,   0,   0,   0,  21,   0,   0,   3,\n",
              "          0,   6,   0,   2,   1,   0,   0,   0,   7,   0,  18,   0,   0,\n",
              "          0,   0],\n",
              "       [  0,   0,   0,   0,   0,   0,   0,   0,   0,   0,   0,  21,   0,\n",
              "          0,   8,   9,  13,   0,  11,   3,  16,   0,  21,   0,   0,   0,\n",
              "          0,   0],\n",
              "       [  0,   0,   0,   0,   0,   0,   0,   0,   9,   0,   5,  58,   0,\n",
              "         55, 107, 183, 109, 142,  49,   0,   0,   0,   6,   2,   0,   0,\n",
              "          0,   0],\n",
              "       [  0,   0,   0,   0,   0,   0,   0,   0,   0,  28, 174, 244, 236,\n",
              "        241, 255, 255, 245, 255, 231, 237,  95,  15,   2,   0,   0,   0,\n",
              "          0,   0],\n",
              "       [  0,   0,   0,   0,   0,   0,   0,   0,   8, 120, 255, 255, 252,\n",
              "        209, 193, 161, 182, 176, 255, 255, 234,  32,   0,   4,   0,   0,\n",
              "          0,   0],\n",
              "       [  0,   0,   0,   0,   0,   0,   0,   0,  44, 250, 254, 222,  51,\n",
              "         46,   0,  12,   0,   5, 123, 251, 248, 186,  24,   0,   0,   0,\n",
              "          0,   0],\n",
              "       [  0,   5,   0,   1,   0,   0,   5,   1,  49, 255, 255, 101,  11,\n",
              "          0,   1,   3,   3,  11,   0, 125, 255, 247,  72,   0,   0,   0,\n",
              "          0,   0],\n",
              "       [  0,   8,   0,   0,   6,   4,   5,   0,  80, 237, 143,   7,   0,\n",
              "          8,   6,   1,   0,   0,   8,  18, 230, 251, 165,   0,   0,   0,\n",
              "          0,   0],\n",
              "       [  0,   6,   0,   0,   4,   8,   0,   1, 173, 255, 107,   0,   4,\n",
              "         10,   0,   0,   2,   2,   1,   0, 147, 255, 213,   0,   0,   0,\n",
              "          0,   0],\n",
              "       [  0,   1,   0,   0,   0,   0,   0,  46, 227, 238,  69,   0,   3,\n",
              "          0,   0,   5,   3,  12,   0,   7,  80, 255, 206,   1,   0,   0,\n",
              "          0,   0],\n",
              "       [  2,   0,   0,   5,   0,   0,   0, 130, 255, 151,   5,   0,   0,\n",
              "          0,   4,   5,   1,   0,   1,  10,  79, 244, 216,   2,   0,   0,\n",
              "          0,   0],\n",
              "       [  1,   0,   2,   8,   0,   0,   9, 200, 244,  70,   0,   9,   1,\n",
              "          0,   8,   0,   2,   0,   0,   1,  78, 255, 223,   0,   0,   0,\n",
              "          0,   0],\n",
              "       [  0,   0,   1,   1,   0,   2,   8, 223, 185,   4,   0,   8,   3,\n",
              "          0,   8,   0,   1,  11,   0,   4,  72, 255, 213,   0,   0,   0,\n",
              "          0,   0],\n",
              "       [  4,   2,   5,   0,   0,   8,   5, 220, 198,   5,   4,   0,   1,\n",
              "          1,   6,   0,   0,   4,   3,   0,  89, 251, 212,   3,   0,   0,\n",
              "          0,   0],\n",
              "       [  0,   8,   0,   5,   0,   4,  88, 255, 199,   0,   0,   0,   1,\n",
              "          0,   5,   2,   5,   1,  12,   0, 170, 253, 214,   0,   0,   0,\n",
              "          0,   0],\n",
              "       [  0,   2,   0,   1,   0,   2, 108, 255, 200,   2,   5,   0,   2,\n",
              "          3,   7,   0,   0,  17,   0,  51, 239, 253,  68,   0,   0,   0,\n",
              "          0,   0],\n",
              "       [  3,   0,   0,   7,   0,   2, 106, 246, 199,   0,   2,   0,   0,\n",
              "          7,   0,   0,  14,   0,  44, 188, 240, 190,  14,  10,   0,   0,\n",
              "          0,   0],\n",
              "       [  2,   0,   1,  11,   0,   3,  57, 235, 205,   3,   0,   2,   0,\n",
              "          1,   0,   9,   0,   2, 179, 236, 238,  59,   0,   0,   0,   0,\n",
              "          0,   0],\n",
              "       [  0,   0,   0,   4,   0,   7,   3, 227, 192,  21,   0,   7,   4,\n",
              "          0,   6,  49, 162, 212, 248, 255,  60,   7,   0,   8,   0,   0,\n",
              "          0,   0],\n",
              "       [  0,   0,   0,   0,   0,  15,   0, 193, 255, 200, 176, 179, 179,\n",
              "        173, 191, 227, 249, 248, 230, 154,   0,   0,  31,   0,   0,   0,\n",
              "          0,   0],\n",
              "       [  6,   0,   3,   0,   2,   8,   0,  98, 187, 255, 255, 255, 255,\n",
              "        255, 255, 246, 255, 230, 122,  28,   0,   5,   0,   3,   0,   0,\n",
              "          0,   0],\n",
              "       [  4,   0,   2,   0,   7,   0,   0,   0,  32, 212, 255, 243, 251,\n",
              "        255, 238, 164, 106,   4,   0,   0,   0,  17,   5,   0,   0,   0,\n",
              "          0,   0],\n",
              "       [  0,   0,   0,   0,   0,   0,   0,   0,   0,   0,   0,   0,   0,\n",
              "          0,   0,   0,   0,   0,   0,   0,   0,   0,   0,   0,   0,   0,\n",
              "          0,   0],\n",
              "       [  0,   0,   0,   0,   0,   0,   0,   0,   0,   0,   0,   0,   0,\n",
              "          0,   0,   0,   0,   0,   0,   0,   0,   0,   0,   0,   0,   0,\n",
              "          0,   0],\n",
              "       [  0,   0,   0,   0,   0,   0,   0,   0,   0,   0,   0,   0,   0,\n",
              "          0,   0,   0,   0,   0,   0,   0,   0,   0,   0,   0,   0,   0,\n",
              "          0,   0],\n",
              "       [  0,   0,   0,   0,   0,   0,   0,   0,   0,   0,   0,   0,   0,\n",
              "          0,   0,   0,   0,   0,   0,   0,   0,   0,   0,   0,   0,   0,\n",
              "          0,   0]], dtype=uint8)"
            ],
            "text/html": [
              "<style>\n",
              "      .ndarray_repr .ndarray_raw_data {\n",
              "        display: none;\n",
              "      }\n",
              "      .ndarray_repr.show_array .ndarray_raw_data {\n",
              "        display: block;\n",
              "      }\n",
              "      .ndarray_repr.show_array .ndarray_image_preview {\n",
              "        display: none;\n",
              "      }\n",
              "      </style>\n",
              "      <div id=\"id-6922af94-69e8-479e-8fbb-25095bfd7db5\" class=\"ndarray_repr\"><pre>ndarray (28, 28) <button style=\"padding: 0 2px;\">show data</button></pre><img src=\"data:image/png;base64,iVBORw0KGgoAAAANSUhEUgAAABwAAAAcCAAAAABXZoBIAAABzUlEQVR4nL2SO2sUYRSGn+82l52NJourFgtG1C6KIaKIgpViYaFoK4JgY2Etij/Ayt/grbDwApEUipKANoKIkEokIEIUk2xc3NvszHzHYmcJib1veR7Oe65QqkqMUgqcBbRmkyo4ImsM1YDKFkYdDAFaASE1/sVRPEZixqkDYEck7rkDK8eOnJvb+/DTb1rab8prPGuvtkQ68mPtyvYtNaObIvnnhftzL0R+TW44AjA18Eszh6jibmf9V7vLqEOBU9Mi1xKUMQl3pHd25AeBdZxfuxcSBQqi2nL2GACNB28zdbn2NbV6IFqnzaf2cAkzyPscPLr+BeniVEXCN6QKQGvBAZcaT+YpsPi2MtKpDKGgDcRnOs+zWGEzhfQkCX0JJUXLrvdvEQ1IghnQHda02gpBUYwp2/fKI6nJJ3IxADoPMkd+cZ/KchDRroi5oHUx7HZAjt+B0g5ltM/G2zOnuTG0NZ4AfE98gbcp29an7qqFD5VyUJVgjq98NGgUMXp2tXliY+eW0HyfrxNagukHi305GRKNjp0TtZZOzf40DGr7d0rz5Tv2fAMgwKAjrr4WERHpyvKtBg5TempCYHJR/mTSfHTdAhNu63/9N/0FXcupxa4isUgAAAAASUVORK5CYII=\" class=\"ndarray_image_preview\" /><pre class=\"ndarray_raw_data\">array([[  0,   0,   0,   0,   0,   0,   0,   0,  12,   0,   9,   0,   1,\n",
              "          1,   1,   0,   0,   5,   4,   0,   0,   0,   2,   2,   0,   0,\n",
              "          0,   0],\n",
              "       [  0,   0,   0,   0,   0,   0,   0,   0,   0,  10,   0,   5,   0,\n",
              "          8,   4,   3,   3,   0,  12,   6,   0,  10,   2,   0,   0,   0,\n",
              "          0,   0],\n",
              "       [  0,   0,   0,   0,   0,   0,   0,   0,   0,  21,   0,   0,   3,\n",
              "          0,   6,   0,   2,   1,   0,   0,   0,   7,   0,  18,   0,   0,\n",
              "          0,   0],\n",
              "       [  0,   0,   0,   0,   0,   0,   0,   0,   0,   0,   0,  21,   0,\n",
              "          0,   8,   9,  13,   0,  11,   3,  16,   0,  21,   0,   0,   0,\n",
              "          0,   0],\n",
              "       [  0,   0,   0,   0,   0,   0,   0,   0,   9,   0,   5,  58,   0,\n",
              "         55, 107, 183, 109, 142,  49,   0,   0,   0,   6,   2,   0,   0,\n",
              "          0,   0],\n",
              "       [  0,   0,   0,   0,   0,   0,   0,   0,   0,  28, 174, 244, 236,\n",
              "        241, 255, 255, 245, 255, 231, 237,  95,  15,   2,   0,   0,   0,\n",
              "          0,   0],\n",
              "       [  0,   0,   0,   0,   0,   0,   0,   0,   8, 120, 255, 255, 252,\n",
              "        209, 193, 161, 182, 176, 255, 255, 234,  32,   0,   4,   0,   0,\n",
              "          0,   0],\n",
              "       [  0,   0,   0,   0,   0,   0,   0,   0,  44, 250, 254, 222,  51,\n",
              "         46,   0,  12,   0,   5, 123, 251, 248, 186,  24,   0,   0,   0,\n",
              "          0,   0],\n",
              "       [  0,   5,   0,   1,   0,   0,   5,   1,  49, 255, 255, 101,  11,\n",
              "          0,   1,   3,   3,  11,   0, 125, 255, 247,  72,   0,   0,   0,\n",
              "          0,   0],\n",
              "       [  0,   8,   0,   0,   6,   4,   5,   0,  80, 237, 143,   7,   0,\n",
              "          8,   6,   1,   0,   0,   8,  18, 230, 251, 165,   0,   0,   0,\n",
              "          0,   0],\n",
              "       [  0,   6,   0,   0,   4,   8,   0,   1, 173, 255, 107,   0,   4,\n",
              "         10,   0,   0,   2,   2,   1,   0, 147, 255, 213,   0,   0,   0,\n",
              "          0,   0],\n",
              "       [  0,   1,   0,   0,   0,   0,   0,  46, 227, 238,  69,   0,   3,\n",
              "          0,   0,   5,   3,  12,   0,   7,  80, 255, 206,   1,   0,   0,\n",
              "          0,   0],\n",
              "       [  2,   0,   0,   5,   0,   0,   0, 130, 255, 151,   5,   0,   0,\n",
              "          0,   4,   5,   1,   0,   1,  10,  79, 244, 216,   2,   0,   0,\n",
              "          0,   0],\n",
              "       [  1,   0,   2,   8,   0,   0,   9, 200, 244,  70,   0,   9,   1,\n",
              "          0,   8,   0,   2,   0,   0,   1,  78, 255, 223,   0,   0,   0,\n",
              "          0,   0],\n",
              "       [  0,   0,   1,   1,   0,   2,   8, 223, 185,   4,   0,   8,   3,\n",
              "          0,   8,   0,   1,  11,   0,   4,  72, 255, 213,   0,   0,   0,\n",
              "          0,   0],\n",
              "       [  4,   2,   5,   0,   0,   8,   5, 220, 198,   5,   4,   0,   1,\n",
              "          1,   6,   0,   0,   4,   3,   0,  89, 251, 212,   3,   0,   0,\n",
              "          0,   0],\n",
              "       [  0,   8,   0,   5,   0,   4,  88, 255, 199,   0,   0,   0,   1,\n",
              "          0,   5,   2,   5,   1,  12,   0, 170, 253, 214,   0,   0,   0,\n",
              "          0,   0],\n",
              "       [  0,   2,   0,   1,   0,   2, 108, 255, 200,   2,   5,   0,   2,\n",
              "          3,   7,   0,   0,  17,   0,  51, 239, 253,  68,   0,   0,   0,\n",
              "          0,   0],\n",
              "       [  3,   0,   0,   7,   0,   2, 106, 246, 199,   0,   2,   0,   0,\n",
              "          7,   0,   0,  14,   0,  44, 188, 240, 190,  14,  10,   0,   0,\n",
              "          0,   0],\n",
              "       [  2,   0,   1,  11,   0,   3,  57, 235, 205,   3,   0,   2,   0,\n",
              "          1,   0,   9,   0,   2, 179, 236, 238,  59,   0,   0,   0,   0,\n",
              "          0,   0],\n",
              "       [  0,   0,   0,   4,   0,   7,   3, 227, 192,  21,   0,   7,   4,\n",
              "          0,   6,  49, 162, 212, 248, 255,  60,   7,   0,   8,   0,   0,\n",
              "          0,   0],\n",
              "       [  0,   0,   0,   0,   0,  15,   0, 193, 255, 200, 176, 179, 179,\n",
              "        173, 191, 227, 249, 248, 230, 154,   0,   0,  31,   0,   0,   0,\n",
              "          0,   0],\n",
              "       [  6,   0,   3,   0,   2,   8,   0,  98, 187, 255, 255, 255, 255,\n",
              "        255, 255, 246, 255, 230, 122,  28,   0,   5,   0,   3,   0,   0,\n",
              "          0,   0],\n",
              "       [  4,   0,   2,   0,   7,   0,   0,   0,  32, 212, 255, 243, 251,\n",
              "        255, 238, 164, 106,   4,   0,   0,   0,  17,   5,   0,   0,   0,\n",
              "          0,   0],\n",
              "       [  0,   0,   0,   0,   0,   0,   0,   0,   0,   0,   0,   0,   0,\n",
              "          0,   0,   0,   0,   0,   0,   0,   0,   0,   0,   0,   0,   0,\n",
              "          0,   0],\n",
              "       [  0,   0,   0,   0,   0,   0,   0,   0,   0,   0,   0,   0,   0,\n",
              "          0,   0,   0,   0,   0,   0,   0,   0,   0,   0,   0,   0,   0,\n",
              "          0,   0],\n",
              "       [  0,   0,   0,   0,   0,   0,   0,   0,   0,   0,   0,   0,   0,\n",
              "          0,   0,   0,   0,   0,   0,   0,   0,   0,   0,   0,   0,   0,\n",
              "          0,   0],\n",
              "       [  0,   0,   0,   0,   0,   0,   0,   0,   0,   0,   0,   0,   0,\n",
              "          0,   0,   0,   0,   0,   0,   0,   0,   0,   0,   0,   0,   0,\n",
              "          0,   0]], dtype=uint8)</pre></div><script>\n",
              "      (() => {\n",
              "      const titles = ['show data', 'hide data'];\n",
              "      let index = 0\n",
              "      document.querySelector('#id-6922af94-69e8-479e-8fbb-25095bfd7db5 button').onclick = (e) => {\n",
              "        document.querySelector('#id-6922af94-69e8-479e-8fbb-25095bfd7db5').classList.toggle('show_array');\n",
              "        index = (++index) % 2;\n",
              "        document.querySelector('#id-6922af94-69e8-479e-8fbb-25095bfd7db5 button').textContent = titles[index];\n",
              "        e.preventDefault();\n",
              "        e.stopPropagation();\n",
              "      }\n",
              "      })();\n",
              "    </script>"
            ]
          },
          "metadata": {},
          "execution_count": 36
        }
      ]
    },
    {
      "cell_type": "markdown",
      "source": [
        "## Preparação de dados"
      ],
      "metadata": {
        "id": "clFav-5JXBXV"
      }
    },
    {
      "cell_type": "code",
      "source": [
        "class_names = ['0', '1', '2', '3', '4', '5', '6', '7', '8', '9']"
      ],
      "metadata": {
        "id": "Qm5hnRaNXDa-"
      },
      "execution_count": null,
      "outputs": []
    },
    {
      "cell_type": "code",
      "source": [
        "def load_images_and_labels(folder):\n",
        "  data = {'image': [], 'label': []}\n",
        "\n",
        "  for label in class_names:\n",
        "    path = os.path.join(folder, label)\n",
        "    for file in tqdm(os.listdir(path), desc=f'Loading {label}'):\n",
        "      img_path = os.path.join(path, file)\n",
        "      img = cv2.imread(img_path)\n",
        "      img = cv2.imread(img_path, cv2.IMREAD_GRAYSCALE)\n",
        "      if img is not None:\n",
        "        data['image'].append(img)\n",
        "        data['label'].append(label)\n",
        "  return pd.DataFrame(data)"
      ],
      "metadata": {
        "id": "LqzXUd5AXjsF"
      },
      "execution_count": null,
      "outputs": []
    },
    {
      "cell_type": "code",
      "source": [
        "df_train = load_images_and_labels('/content/train_images')"
      ],
      "metadata": {
        "colab": {
          "base_uri": "https://localhost:8080/"
        },
        "id": "7IeMyTlkY75l",
        "outputId": "b8791153-d70c-45a4-95b9-7352ffd9b3b5"
      },
      "execution_count": null,
      "outputs": [
        {
          "output_type": "stream",
          "name": "stderr",
          "text": [
            "Loading 0: 100%|██████████| 5923/5923 [00:04<00:00, 1331.74it/s]\n",
            "Loading 1: 100%|██████████| 6742/6742 [00:05<00:00, 1214.35it/s]\n",
            "Loading 2: 100%|██████████| 5958/5958 [00:04<00:00, 1352.80it/s]\n",
            "Loading 3: 100%|██████████| 6131/6131 [00:05<00:00, 1139.55it/s]\n",
            "Loading 4: 100%|██████████| 5842/5842 [00:04<00:00, 1379.10it/s]\n",
            "Loading 5: 100%|██████████| 5421/5421 [00:03<00:00, 1569.07it/s]\n",
            "Loading 6: 100%|██████████| 5918/5918 [00:03<00:00, 1640.41it/s]\n",
            "Loading 7: 100%|██████████| 6265/6265 [00:03<00:00, 1657.90it/s]\n",
            "Loading 8: 100%|██████████| 5851/5851 [00:03<00:00, 1655.71it/s]\n",
            "Loading 9: 100%|██████████| 5949/5949 [00:03<00:00, 1671.50it/s]\n"
          ]
        }
      ]
    },
    {
      "cell_type": "code",
      "source": [
        "X = df_train['image']\n",
        "y = df_train['label']\n",
        "\n",
        "X_train, X_val, y_train, y_val = train_test_split(X, y, test_size=0.2, random_state=42)"
      ],
      "metadata": {
        "id": "Mj9ahCLMaXCh"
      },
      "execution_count": null,
      "outputs": []
    },
    {
      "cell_type": "code",
      "source": [
        "df_train.head()"
      ],
      "metadata": {
        "colab": {
          "base_uri": "https://localhost:8080/",
          "height": 206
        },
        "id": "ZzkdMyxieklT",
        "outputId": "91d6552b-8a72-4cb2-97ff-79a03bd499b4"
      },
      "execution_count": null,
      "outputs": [
        {
          "output_type": "execute_result",
          "data": {
            "text/plain": [
              "                                               image label\n",
              "0  [[0, 0, 0, 0, 0, 0, 0, 0, 0, 2, 1, 2, 2, 0, 0,...     0\n",
              "1  [[0, 0, 0, 0, 0, 0, 0, 0, 1, 2, 8, 0, 7, 5, 0,...     0\n",
              "2  [[0, 0, 0, 0, 0, 0, 0, 0, 8, 0, 1, 0, 0, 0, 15...     0\n",
              "3  [[0, 0, 0, 0, 0, 0, 0, 0, 8, 0, 0, 0, 1, 9, 8,...     0\n",
              "4  [[0, 0, 0, 0, 0, 0, 0, 0, 0, 4, 0, 4, 4, 0, 0,...     0"
            ],
            "text/html": [
              "\n",
              "  <div id=\"df-f7815840-1e04-4d77-b3d3-dd350a50957d\" class=\"colab-df-container\">\n",
              "    <div>\n",
              "<style scoped>\n",
              "    .dataframe tbody tr th:only-of-type {\n",
              "        vertical-align: middle;\n",
              "    }\n",
              "\n",
              "    .dataframe tbody tr th {\n",
              "        vertical-align: top;\n",
              "    }\n",
              "\n",
              "    .dataframe thead th {\n",
              "        text-align: right;\n",
              "    }\n",
              "</style>\n",
              "<table border=\"1\" class=\"dataframe\">\n",
              "  <thead>\n",
              "    <tr style=\"text-align: right;\">\n",
              "      <th></th>\n",
              "      <th>image</th>\n",
              "      <th>label</th>\n",
              "    </tr>\n",
              "  </thead>\n",
              "  <tbody>\n",
              "    <tr>\n",
              "      <th>0</th>\n",
              "      <td>[[0, 0, 0, 0, 0, 0, 0, 0, 0, 2, 1, 2, 2, 0, 0,...</td>\n",
              "      <td>0</td>\n",
              "    </tr>\n",
              "    <tr>\n",
              "      <th>1</th>\n",
              "      <td>[[0, 0, 0, 0, 0, 0, 0, 0, 1, 2, 8, 0, 7, 5, 0,...</td>\n",
              "      <td>0</td>\n",
              "    </tr>\n",
              "    <tr>\n",
              "      <th>2</th>\n",
              "      <td>[[0, 0, 0, 0, 0, 0, 0, 0, 8, 0, 1, 0, 0, 0, 15...</td>\n",
              "      <td>0</td>\n",
              "    </tr>\n",
              "    <tr>\n",
              "      <th>3</th>\n",
              "      <td>[[0, 0, 0, 0, 0, 0, 0, 0, 8, 0, 0, 0, 1, 9, 8,...</td>\n",
              "      <td>0</td>\n",
              "    </tr>\n",
              "    <tr>\n",
              "      <th>4</th>\n",
              "      <td>[[0, 0, 0, 0, 0, 0, 0, 0, 0, 4, 0, 4, 4, 0, 0,...</td>\n",
              "      <td>0</td>\n",
              "    </tr>\n",
              "  </tbody>\n",
              "</table>\n",
              "</div>\n",
              "    <div class=\"colab-df-buttons\">\n",
              "\n",
              "  <div class=\"colab-df-container\">\n",
              "    <button class=\"colab-df-convert\" onclick=\"convertToInteractive('df-f7815840-1e04-4d77-b3d3-dd350a50957d')\"\n",
              "            title=\"Convert this dataframe to an interactive table.\"\n",
              "            style=\"display:none;\">\n",
              "\n",
              "  <svg xmlns=\"http://www.w3.org/2000/svg\" height=\"24px\" viewBox=\"0 -960 960 960\">\n",
              "    <path d=\"M120-120v-720h720v720H120Zm60-500h600v-160H180v160Zm220 220h160v-160H400v160Zm0 220h160v-160H400v160ZM180-400h160v-160H180v160Zm440 0h160v-160H620v160ZM180-180h160v-160H180v160Zm440 0h160v-160H620v160Z\"/>\n",
              "  </svg>\n",
              "    </button>\n",
              "\n",
              "  <style>\n",
              "    .colab-df-container {\n",
              "      display:flex;\n",
              "      gap: 12px;\n",
              "    }\n",
              "\n",
              "    .colab-df-convert {\n",
              "      background-color: #E8F0FE;\n",
              "      border: none;\n",
              "      border-radius: 50%;\n",
              "      cursor: pointer;\n",
              "      display: none;\n",
              "      fill: #1967D2;\n",
              "      height: 32px;\n",
              "      padding: 0 0 0 0;\n",
              "      width: 32px;\n",
              "    }\n",
              "\n",
              "    .colab-df-convert:hover {\n",
              "      background-color: #E2EBFA;\n",
              "      box-shadow: 0px 1px 2px rgba(60, 64, 67, 0.3), 0px 1px 3px 1px rgba(60, 64, 67, 0.15);\n",
              "      fill: #174EA6;\n",
              "    }\n",
              "\n",
              "    .colab-df-buttons div {\n",
              "      margin-bottom: 4px;\n",
              "    }\n",
              "\n",
              "    [theme=dark] .colab-df-convert {\n",
              "      background-color: #3B4455;\n",
              "      fill: #D2E3FC;\n",
              "    }\n",
              "\n",
              "    [theme=dark] .colab-df-convert:hover {\n",
              "      background-color: #434B5C;\n",
              "      box-shadow: 0px 1px 3px 1px rgba(0, 0, 0, 0.15);\n",
              "      filter: drop-shadow(0px 1px 2px rgba(0, 0, 0, 0.3));\n",
              "      fill: #FFFFFF;\n",
              "    }\n",
              "  </style>\n",
              "\n",
              "    <script>\n",
              "      const buttonEl =\n",
              "        document.querySelector('#df-f7815840-1e04-4d77-b3d3-dd350a50957d button.colab-df-convert');\n",
              "      buttonEl.style.display =\n",
              "        google.colab.kernel.accessAllowed ? 'block' : 'none';\n",
              "\n",
              "      async function convertToInteractive(key) {\n",
              "        const element = document.querySelector('#df-f7815840-1e04-4d77-b3d3-dd350a50957d');\n",
              "        const dataTable =\n",
              "          await google.colab.kernel.invokeFunction('convertToInteractive',\n",
              "                                                    [key], {});\n",
              "        if (!dataTable) return;\n",
              "\n",
              "        const docLinkHtml = 'Like what you see? Visit the ' +\n",
              "          '<a target=\"_blank\" href=https://colab.research.google.com/notebooks/data_table.ipynb>data table notebook</a>'\n",
              "          + ' to learn more about interactive tables.';\n",
              "        element.innerHTML = '';\n",
              "        dataTable['output_type'] = 'display_data';\n",
              "        await google.colab.output.renderOutput(dataTable, element);\n",
              "        const docLink = document.createElement('div');\n",
              "        docLink.innerHTML = docLinkHtml;\n",
              "        element.appendChild(docLink);\n",
              "      }\n",
              "    </script>\n",
              "  </div>\n",
              "\n",
              "\n",
              "<div id=\"df-f0487430-18a7-4fc9-8c0f-058df1fbf2bb\">\n",
              "  <button class=\"colab-df-quickchart\" onclick=\"quickchart('df-f0487430-18a7-4fc9-8c0f-058df1fbf2bb')\"\n",
              "            title=\"Suggest charts\"\n",
              "            style=\"display:none;\">\n",
              "\n",
              "<svg xmlns=\"http://www.w3.org/2000/svg\" height=\"24px\"viewBox=\"0 0 24 24\"\n",
              "     width=\"24px\">\n",
              "    <g>\n",
              "        <path d=\"M19 3H5c-1.1 0-2 .9-2 2v14c0 1.1.9 2 2 2h14c1.1 0 2-.9 2-2V5c0-1.1-.9-2-2-2zM9 17H7v-7h2v7zm4 0h-2V7h2v10zm4 0h-2v-4h2v4z\"/>\n",
              "    </g>\n",
              "</svg>\n",
              "  </button>\n",
              "\n",
              "<style>\n",
              "  .colab-df-quickchart {\n",
              "      --bg-color: #E8F0FE;\n",
              "      --fill-color: #1967D2;\n",
              "      --hover-bg-color: #E2EBFA;\n",
              "      --hover-fill-color: #174EA6;\n",
              "      --disabled-fill-color: #AAA;\n",
              "      --disabled-bg-color: #DDD;\n",
              "  }\n",
              "\n",
              "  [theme=dark] .colab-df-quickchart {\n",
              "      --bg-color: #3B4455;\n",
              "      --fill-color: #D2E3FC;\n",
              "      --hover-bg-color: #434B5C;\n",
              "      --hover-fill-color: #FFFFFF;\n",
              "      --disabled-bg-color: #3B4455;\n",
              "      --disabled-fill-color: #666;\n",
              "  }\n",
              "\n",
              "  .colab-df-quickchart {\n",
              "    background-color: var(--bg-color);\n",
              "    border: none;\n",
              "    border-radius: 50%;\n",
              "    cursor: pointer;\n",
              "    display: none;\n",
              "    fill: var(--fill-color);\n",
              "    height: 32px;\n",
              "    padding: 0;\n",
              "    width: 32px;\n",
              "  }\n",
              "\n",
              "  .colab-df-quickchart:hover {\n",
              "    background-color: var(--hover-bg-color);\n",
              "    box-shadow: 0 1px 2px rgba(60, 64, 67, 0.3), 0 1px 3px 1px rgba(60, 64, 67, 0.15);\n",
              "    fill: var(--button-hover-fill-color);\n",
              "  }\n",
              "\n",
              "  .colab-df-quickchart-complete:disabled,\n",
              "  .colab-df-quickchart-complete:disabled:hover {\n",
              "    background-color: var(--disabled-bg-color);\n",
              "    fill: var(--disabled-fill-color);\n",
              "    box-shadow: none;\n",
              "  }\n",
              "\n",
              "  .colab-df-spinner {\n",
              "    border: 2px solid var(--fill-color);\n",
              "    border-color: transparent;\n",
              "    border-bottom-color: var(--fill-color);\n",
              "    animation:\n",
              "      spin 1s steps(1) infinite;\n",
              "  }\n",
              "\n",
              "  @keyframes spin {\n",
              "    0% {\n",
              "      border-color: transparent;\n",
              "      border-bottom-color: var(--fill-color);\n",
              "      border-left-color: var(--fill-color);\n",
              "    }\n",
              "    20% {\n",
              "      border-color: transparent;\n",
              "      border-left-color: var(--fill-color);\n",
              "      border-top-color: var(--fill-color);\n",
              "    }\n",
              "    30% {\n",
              "      border-color: transparent;\n",
              "      border-left-color: var(--fill-color);\n",
              "      border-top-color: var(--fill-color);\n",
              "      border-right-color: var(--fill-color);\n",
              "    }\n",
              "    40% {\n",
              "      border-color: transparent;\n",
              "      border-right-color: var(--fill-color);\n",
              "      border-top-color: var(--fill-color);\n",
              "    }\n",
              "    60% {\n",
              "      border-color: transparent;\n",
              "      border-right-color: var(--fill-color);\n",
              "    }\n",
              "    80% {\n",
              "      border-color: transparent;\n",
              "      border-right-color: var(--fill-color);\n",
              "      border-bottom-color: var(--fill-color);\n",
              "    }\n",
              "    90% {\n",
              "      border-color: transparent;\n",
              "      border-bottom-color: var(--fill-color);\n",
              "    }\n",
              "  }\n",
              "</style>\n",
              "\n",
              "  <script>\n",
              "    async function quickchart(key) {\n",
              "      const quickchartButtonEl =\n",
              "        document.querySelector('#' + key + ' button');\n",
              "      quickchartButtonEl.disabled = true;  // To prevent multiple clicks.\n",
              "      quickchartButtonEl.classList.add('colab-df-spinner');\n",
              "      try {\n",
              "        const charts = await google.colab.kernel.invokeFunction(\n",
              "            'suggestCharts', [key], {});\n",
              "      } catch (error) {\n",
              "        console.error('Error during call to suggestCharts:', error);\n",
              "      }\n",
              "      quickchartButtonEl.classList.remove('colab-df-spinner');\n",
              "      quickchartButtonEl.classList.add('colab-df-quickchart-complete');\n",
              "    }\n",
              "    (() => {\n",
              "      let quickchartButtonEl =\n",
              "        document.querySelector('#df-f0487430-18a7-4fc9-8c0f-058df1fbf2bb button');\n",
              "      quickchartButtonEl.style.display =\n",
              "        google.colab.kernel.accessAllowed ? 'block' : 'none';\n",
              "    })();\n",
              "  </script>\n",
              "</div>\n",
              "\n",
              "    </div>\n",
              "  </div>\n"
            ],
            "application/vnd.google.colaboratory.intrinsic+json": {
              "type": "dataframe",
              "variable_name": "df_train",
              "summary": "{\n  \"name\": \"df_train\",\n  \"rows\": 60000,\n  \"fields\": [\n    {\n      \"column\": \"image\",\n      \"properties\": {\n        \"dtype\": \"object\",\n        \"semantic_type\": \"\",\n        \"description\": \"\"\n      }\n    },\n    {\n      \"column\": \"label\",\n      \"properties\": {\n        \"dtype\": \"category\",\n        \"num_unique_values\": 10,\n        \"samples\": [\n          \"8\",\n          \"1\",\n          \"5\"\n        ],\n        \"semantic_type\": \"\",\n        \"description\": \"\"\n      }\n    }\n  ]\n}"
            }
          },
          "metadata": {},
          "execution_count": 14
        }
      ]
    },
    {
      "cell_type": "code",
      "source": [
        "X_train = np.array([np.array(image) for image in X_train])\n",
        "X_val = np.array([np.array(image) for image in X_val])"
      ],
      "metadata": {
        "id": "hnLlArySfDtL"
      },
      "execution_count": null,
      "outputs": []
    },
    {
      "cell_type": "code",
      "source": [
        "y_train = to_categorical(y_train, num_classes=10)\n",
        "y_val = to_categorical(y_val, num_classes=10)"
      ],
      "metadata": {
        "id": "lSn6inzHgBSY"
      },
      "execution_count": null,
      "outputs": []
    },
    {
      "cell_type": "code",
      "source": [
        "print(X_train.shape, y_train.shape)"
      ],
      "metadata": {
        "colab": {
          "base_uri": "https://localhost:8080/"
        },
        "id": "ufEpW3eebsRz",
        "outputId": "1f1cfcb4-a69c-44ed-b38a-1fa6f288fbb3"
      },
      "execution_count": null,
      "outputs": [
        {
          "output_type": "stream",
          "name": "stdout",
          "text": [
            "(48000, 28, 28) (48000, 10)\n"
          ]
        }
      ]
    },
    {
      "cell_type": "code",
      "source": [
        "print(X_val.shape, y_val.shape)"
      ],
      "metadata": {
        "colab": {
          "base_uri": "https://localhost:8080/"
        },
        "id": "aqdLNMHwb2pi",
        "outputId": "abff0113-3d88-461a-fe30-7586e85d28d8"
      },
      "execution_count": null,
      "outputs": [
        {
          "output_type": "stream",
          "name": "stdout",
          "text": [
            "(12000, 28, 28) (12000, 10)\n"
          ]
        }
      ]
    },
    {
      "cell_type": "markdown",
      "source": [
        "## Modelagem"
      ],
      "metadata": {
        "id": "R5pQb_Zvgr8R"
      }
    },
    {
      "cell_type": "code",
      "source": [
        "model = Sequential()\n",
        "\n",
        "model.add(Conv2D(filters=32, kernel_size=(5, 5), activation='relu', input_shape=(28, 28, 1)))\n",
        "model.add(MaxPool2D(pool_size=(2, 2)))\n",
        "\n",
        "model.add(Conv2D(filters=64, kernel_size=(5, 5), activation='relu', input_shape=(28, 28, 1)))\n",
        "model.add(MaxPool2D(pool_size=(2, 2)))\n",
        "\n",
        "model.add(Flatten())\n",
        "\n",
        "model.add(Dense(256, activation='relu'))\n",
        "model.add(Dropout(0.5))\n",
        "model.add(Dense(10, activation='softmax'))"
      ],
      "metadata": {
        "colab": {
          "base_uri": "https://localhost:8080/"
        },
        "id": "XuVkpcN1gtqp",
        "outputId": "e9202f72-b547-4bb0-bb3c-9dfda57b39f9"
      },
      "execution_count": null,
      "outputs": [
        {
          "output_type": "stream",
          "name": "stderr",
          "text": [
            "/usr/local/lib/python3.10/dist-packages/keras/src/layers/convolutional/base_conv.py:107: UserWarning: Do not pass an `input_shape`/`input_dim` argument to a layer. When using Sequential models, prefer using an `Input(shape)` object as the first layer in the model instead.\n",
            "  super().__init__(activity_regularizer=activity_regularizer, **kwargs)\n"
          ]
        }
      ]
    },
    {
      "cell_type": "code",
      "source": [
        "model.summary()"
      ],
      "metadata": {
        "colab": {
          "base_uri": "https://localhost:8080/",
          "height": 385
        },
        "id": "Ubms0aGoks8H",
        "outputId": "f4623e3b-88ac-4d5c-c86e-a80b71af4382"
      },
      "execution_count": null,
      "outputs": [
        {
          "output_type": "display_data",
          "data": {
            "text/plain": [
              "\u001b[1mModel: \"sequential_2\"\u001b[0m\n"
            ],
            "text/html": [
              "<pre style=\"white-space:pre;overflow-x:auto;line-height:normal;font-family:Menlo,'DejaVu Sans Mono',consolas,'Courier New',monospace\"><span style=\"font-weight: bold\">Model: \"sequential_2\"</span>\n",
              "</pre>\n"
            ]
          },
          "metadata": {}
        },
        {
          "output_type": "display_data",
          "data": {
            "text/plain": [
              "┏━━━━━━━━━━━━━━━━━━━━━━━━━━━━━━━━━━━━━━┳━━━━━━━━━━━━━━━━━━━━━━━━━━━━━┳━━━━━━━━━━━━━━━━━┓\n",
              "┃\u001b[1m \u001b[0m\u001b[1mLayer (type)                        \u001b[0m\u001b[1m \u001b[0m┃\u001b[1m \u001b[0m\u001b[1mOutput Shape               \u001b[0m\u001b[1m \u001b[0m┃\u001b[1m \u001b[0m\u001b[1m        Param #\u001b[0m\u001b[1m \u001b[0m┃\n",
              "┡━━━━━━━━━━━━━━━━━━━━━━━━━━━━━━━━━━━━━━╇━━━━━━━━━━━━━━━━━━━━━━━━━━━━━╇━━━━━━━━━━━━━━━━━┩\n",
              "│ conv2d_3 (\u001b[38;5;33mConv2D\u001b[0m)                    │ (\u001b[38;5;45mNone\u001b[0m, \u001b[38;5;34m24\u001b[0m, \u001b[38;5;34m24\u001b[0m, \u001b[38;5;34m32\u001b[0m)          │             \u001b[38;5;34m832\u001b[0m │\n",
              "├──────────────────────────────────────┼─────────────────────────────┼─────────────────┤\n",
              "│ max_pooling2d_2 (\u001b[38;5;33mMaxPooling2D\u001b[0m)       │ (\u001b[38;5;45mNone\u001b[0m, \u001b[38;5;34m12\u001b[0m, \u001b[38;5;34m12\u001b[0m, \u001b[38;5;34m32\u001b[0m)          │               \u001b[38;5;34m0\u001b[0m │\n",
              "├──────────────────────────────────────┼─────────────────────────────┼─────────────────┤\n",
              "│ conv2d_4 (\u001b[38;5;33mConv2D\u001b[0m)                    │ (\u001b[38;5;45mNone\u001b[0m, \u001b[38;5;34m8\u001b[0m, \u001b[38;5;34m8\u001b[0m, \u001b[38;5;34m64\u001b[0m)            │          \u001b[38;5;34m51,264\u001b[0m │\n",
              "├──────────────────────────────────────┼─────────────────────────────┼─────────────────┤\n",
              "│ max_pooling2d_3 (\u001b[38;5;33mMaxPooling2D\u001b[0m)       │ (\u001b[38;5;45mNone\u001b[0m, \u001b[38;5;34m4\u001b[0m, \u001b[38;5;34m4\u001b[0m, \u001b[38;5;34m64\u001b[0m)            │               \u001b[38;5;34m0\u001b[0m │\n",
              "├──────────────────────────────────────┼─────────────────────────────┼─────────────────┤\n",
              "│ flatten_1 (\u001b[38;5;33mFlatten\u001b[0m)                  │ (\u001b[38;5;45mNone\u001b[0m, \u001b[38;5;34m1024\u001b[0m)                │               \u001b[38;5;34m0\u001b[0m │\n",
              "├──────────────────────────────────────┼─────────────────────────────┼─────────────────┤\n",
              "│ dense_2 (\u001b[38;5;33mDense\u001b[0m)                      │ (\u001b[38;5;45mNone\u001b[0m, \u001b[38;5;34m256\u001b[0m)                 │         \u001b[38;5;34m262,400\u001b[0m │\n",
              "├──────────────────────────────────────┼─────────────────────────────┼─────────────────┤\n",
              "│ dropout_1 (\u001b[38;5;33mDropout\u001b[0m)                  │ (\u001b[38;5;45mNone\u001b[0m, \u001b[38;5;34m256\u001b[0m)                 │               \u001b[38;5;34m0\u001b[0m │\n",
              "├──────────────────────────────────────┼─────────────────────────────┼─────────────────┤\n",
              "│ dense_3 (\u001b[38;5;33mDense\u001b[0m)                      │ (\u001b[38;5;45mNone\u001b[0m, \u001b[38;5;34m10\u001b[0m)                  │           \u001b[38;5;34m2,570\u001b[0m │\n",
              "└──────────────────────────────────────┴─────────────────────────────┴─────────────────┘\n"
            ],
            "text/html": [
              "<pre style=\"white-space:pre;overflow-x:auto;line-height:normal;font-family:Menlo,'DejaVu Sans Mono',consolas,'Courier New',monospace\">┏━━━━━━━━━━━━━━━━━━━━━━━━━━━━━━━━━━━━━━┳━━━━━━━━━━━━━━━━━━━━━━━━━━━━━┳━━━━━━━━━━━━━━━━━┓\n",
              "┃<span style=\"font-weight: bold\"> Layer (type)                         </span>┃<span style=\"font-weight: bold\"> Output Shape                </span>┃<span style=\"font-weight: bold\">         Param # </span>┃\n",
              "┡━━━━━━━━━━━━━━━━━━━━━━━━━━━━━━━━━━━━━━╇━━━━━━━━━━━━━━━━━━━━━━━━━━━━━╇━━━━━━━━━━━━━━━━━┩\n",
              "│ conv2d_3 (<span style=\"color: #0087ff; text-decoration-color: #0087ff\">Conv2D</span>)                    │ (<span style=\"color: #00d7ff; text-decoration-color: #00d7ff\">None</span>, <span style=\"color: #00af00; text-decoration-color: #00af00\">24</span>, <span style=\"color: #00af00; text-decoration-color: #00af00\">24</span>, <span style=\"color: #00af00; text-decoration-color: #00af00\">32</span>)          │             <span style=\"color: #00af00; text-decoration-color: #00af00\">832</span> │\n",
              "├──────────────────────────────────────┼─────────────────────────────┼─────────────────┤\n",
              "│ max_pooling2d_2 (<span style=\"color: #0087ff; text-decoration-color: #0087ff\">MaxPooling2D</span>)       │ (<span style=\"color: #00d7ff; text-decoration-color: #00d7ff\">None</span>, <span style=\"color: #00af00; text-decoration-color: #00af00\">12</span>, <span style=\"color: #00af00; text-decoration-color: #00af00\">12</span>, <span style=\"color: #00af00; text-decoration-color: #00af00\">32</span>)          │               <span style=\"color: #00af00; text-decoration-color: #00af00\">0</span> │\n",
              "├──────────────────────────────────────┼─────────────────────────────┼─────────────────┤\n",
              "│ conv2d_4 (<span style=\"color: #0087ff; text-decoration-color: #0087ff\">Conv2D</span>)                    │ (<span style=\"color: #00d7ff; text-decoration-color: #00d7ff\">None</span>, <span style=\"color: #00af00; text-decoration-color: #00af00\">8</span>, <span style=\"color: #00af00; text-decoration-color: #00af00\">8</span>, <span style=\"color: #00af00; text-decoration-color: #00af00\">64</span>)            │          <span style=\"color: #00af00; text-decoration-color: #00af00\">51,264</span> │\n",
              "├──────────────────────────────────────┼─────────────────────────────┼─────────────────┤\n",
              "│ max_pooling2d_3 (<span style=\"color: #0087ff; text-decoration-color: #0087ff\">MaxPooling2D</span>)       │ (<span style=\"color: #00d7ff; text-decoration-color: #00d7ff\">None</span>, <span style=\"color: #00af00; text-decoration-color: #00af00\">4</span>, <span style=\"color: #00af00; text-decoration-color: #00af00\">4</span>, <span style=\"color: #00af00; text-decoration-color: #00af00\">64</span>)            │               <span style=\"color: #00af00; text-decoration-color: #00af00\">0</span> │\n",
              "├──────────────────────────────────────┼─────────────────────────────┼─────────────────┤\n",
              "│ flatten_1 (<span style=\"color: #0087ff; text-decoration-color: #0087ff\">Flatten</span>)                  │ (<span style=\"color: #00d7ff; text-decoration-color: #00d7ff\">None</span>, <span style=\"color: #00af00; text-decoration-color: #00af00\">1024</span>)                │               <span style=\"color: #00af00; text-decoration-color: #00af00\">0</span> │\n",
              "├──────────────────────────────────────┼─────────────────────────────┼─────────────────┤\n",
              "│ dense_2 (<span style=\"color: #0087ff; text-decoration-color: #0087ff\">Dense</span>)                      │ (<span style=\"color: #00d7ff; text-decoration-color: #00d7ff\">None</span>, <span style=\"color: #00af00; text-decoration-color: #00af00\">256</span>)                 │         <span style=\"color: #00af00; text-decoration-color: #00af00\">262,400</span> │\n",
              "├──────────────────────────────────────┼─────────────────────────────┼─────────────────┤\n",
              "│ dropout_1 (<span style=\"color: #0087ff; text-decoration-color: #0087ff\">Dropout</span>)                  │ (<span style=\"color: #00d7ff; text-decoration-color: #00d7ff\">None</span>, <span style=\"color: #00af00; text-decoration-color: #00af00\">256</span>)                 │               <span style=\"color: #00af00; text-decoration-color: #00af00\">0</span> │\n",
              "├──────────────────────────────────────┼─────────────────────────────┼─────────────────┤\n",
              "│ dense_3 (<span style=\"color: #0087ff; text-decoration-color: #0087ff\">Dense</span>)                      │ (<span style=\"color: #00d7ff; text-decoration-color: #00d7ff\">None</span>, <span style=\"color: #00af00; text-decoration-color: #00af00\">10</span>)                  │           <span style=\"color: #00af00; text-decoration-color: #00af00\">2,570</span> │\n",
              "└──────────────────────────────────────┴─────────────────────────────┴─────────────────┘\n",
              "</pre>\n"
            ]
          },
          "metadata": {}
        },
        {
          "output_type": "display_data",
          "data": {
            "text/plain": [
              "\u001b[1m Total params: \u001b[0m\u001b[38;5;34m317,066\u001b[0m (1.21 MB)\n"
            ],
            "text/html": [
              "<pre style=\"white-space:pre;overflow-x:auto;line-height:normal;font-family:Menlo,'DejaVu Sans Mono',consolas,'Courier New',monospace\"><span style=\"font-weight: bold\"> Total params: </span><span style=\"color: #00af00; text-decoration-color: #00af00\">317,066</span> (1.21 MB)\n",
              "</pre>\n"
            ]
          },
          "metadata": {}
        },
        {
          "output_type": "display_data",
          "data": {
            "text/plain": [
              "\u001b[1m Trainable params: \u001b[0m\u001b[38;5;34m317,066\u001b[0m (1.21 MB)\n"
            ],
            "text/html": [
              "<pre style=\"white-space:pre;overflow-x:auto;line-height:normal;font-family:Menlo,'DejaVu Sans Mono',consolas,'Courier New',monospace\"><span style=\"font-weight: bold\"> Trainable params: </span><span style=\"color: #00af00; text-decoration-color: #00af00\">317,066</span> (1.21 MB)\n",
              "</pre>\n"
            ]
          },
          "metadata": {}
        },
        {
          "output_type": "display_data",
          "data": {
            "text/plain": [
              "\u001b[1m Non-trainable params: \u001b[0m\u001b[38;5;34m0\u001b[0m (0.00 B)\n"
            ],
            "text/html": [
              "<pre style=\"white-space:pre;overflow-x:auto;line-height:normal;font-family:Menlo,'DejaVu Sans Mono',consolas,'Courier New',monospace\"><span style=\"font-weight: bold\"> Non-trainable params: </span><span style=\"color: #00af00; text-decoration-color: #00af00\">0</span> (0.00 B)\n",
              "</pre>\n"
            ]
          },
          "metadata": {}
        }
      ]
    },
    {
      "cell_type": "code",
      "source": [
        "model.compile(optimizer='adam', loss='categorical_crossentropy', metrics=['accuracy'])"
      ],
      "metadata": {
        "id": "LZO3Fb5YlGqh"
      },
      "execution_count": null,
      "outputs": []
    },
    {
      "cell_type": "code",
      "source": [
        "history = model.fit(X_train, y_train, epochs=3, validation_data=(X_val, y_val))"
      ],
      "metadata": {
        "colab": {
          "base_uri": "https://localhost:8080/"
        },
        "id": "JHwJubWflbPx",
        "outputId": "3b2d3c11-b7e6-4b6b-ad01-07045f961a11"
      },
      "execution_count": null,
      "outputs": [
        {
          "output_type": "stream",
          "name": "stdout",
          "text": [
            "Epoch 1/3\n",
            "\u001b[1m1500/1500\u001b[0m \u001b[32m━━━━━━━━━━━━━━━━━━━━\u001b[0m\u001b[37m\u001b[0m \u001b[1m69s\u001b[0m 45ms/step - accuracy: 0.8174 - loss: 2.3450 - val_accuracy: 0.9764 - val_loss: 0.0790\n",
            "Epoch 2/3\n",
            "\u001b[1m1500/1500\u001b[0m \u001b[32m━━━━━━━━━━━━━━━━━━━━\u001b[0m\u001b[37m\u001b[0m \u001b[1m63s\u001b[0m 42ms/step - accuracy: 0.9660 - loss: 0.1183 - val_accuracy: 0.9826 - val_loss: 0.0580\n",
            "Epoch 3/3\n",
            "\u001b[1m1500/1500\u001b[0m \u001b[32m━━━━━━━━━━━━━━━━━━━━\u001b[0m\u001b[37m\u001b[0m \u001b[1m82s\u001b[0m 42ms/step - accuracy: 0.9723 - loss: 0.0934 - val_accuracy: 0.9829 - val_loss: 0.0649\n"
          ]
        }
      ]
    },
    {
      "cell_type": "code",
      "source": [
        "def plotLearningCurve(history, epochs):\n",
        "  epoch_range = range(1, epochs+1)\n",
        "  plt.plot(epoch_range, history.history['accuracy'])\n",
        "  plt.plot(epoch_range, history.history['val_accuracy'])\n",
        "  plt.title('Model Accuracy')\n",
        "  plt.ylabel('Accuracy')\n",
        "  plt.xlabel('Epoch')\n",
        "  plt.legend(['Train', 'Val'], loc='best')\n",
        "  plt.show()\n",
        "\n",
        "  epoch_range = range(1, epochs+1)\n",
        "  plt.plot(epoch_range, history.history['loss'])\n",
        "  plt.plot(epoch_range, history.history['val_loss'])\n",
        "  plt.title('Model Loss')\n",
        "  plt.ylabel('Loss')\n",
        "  plt.xlabel('Epoch')\n",
        "  plt.legend(['Train', 'Val'], loc='best')\n",
        "  plt.show()"
      ],
      "metadata": {
        "id": "9bxNjZi-ppo5"
      },
      "execution_count": null,
      "outputs": []
    },
    {
      "cell_type": "code",
      "source": [
        "plotLearningCurve(history, 3)"
      ],
      "metadata": {
        "colab": {
          "base_uri": "https://localhost:8080/",
          "height": 927
        },
        "id": "FwYxTX0zqEpY",
        "outputId": "37430f28-23a3-4bce-a98d-117f2c240178"
      },
      "execution_count": null,
      "outputs": [
        {
          "output_type": "display_data",
          "data": {
            "text/plain": [
              "<Figure size 640x480 with 1 Axes>"
            ],
            "image/png": "[encoded data removed]"
          },
          "metadata": {}
        },
        {
          "output_type": "display_data",
          "data": {
            "text/plain": [
              "<Figure size 640x480 with 1 Axes>"
            ],
            "image/png": "[encoded data removed]"
          },
          "metadata": {}
        }
      ]
    },
    {
      "cell_type": "code",
      "source": [
        "y_pred = model.predict(X_val)\n",
        "y_pred_classes = np.argmax(y_pred, axis=1)\n",
        "\n",
        "y_val_classes = np.argmax(y_val, axis=1)"
      ],
      "metadata": {
        "colab": {
          "base_uri": "https://localhost:8080/"
        },
        "id": "glxQc0JiqlNL",
        "outputId": "3c943936-f7bc-4718-b2bc-5937c0d26e60"
      },
      "execution_count": null,
      "outputs": [
        {
          "output_type": "stream",
          "name": "stdout",
          "text": [
            "\u001b[1m375/375\u001b[0m \u001b[32m━━━━━━━━━━━━━━━━━━━━\u001b[0m\u001b[37m\u001b[0m \u001b[1m4s\u001b[0m 11ms/step\n"
          ]
        }
      ]
    },
    {
      "cell_type": "code",
      "source": [
        "matriz = confusion_matrix(y_val_classes, y_pred_classes)\n",
        "matriz"
      ],
      "metadata": {
        "colab": {
          "base_uri": "https://localhost:8080/"
        },
        "id": "O2jviJzdrHWc",
        "outputId": "345f245a-2902-4d99-e118-6691dd9dec5f"
      },
      "execution_count": null,
      "outputs": [
        {
          "output_type": "execute_result",
          "data": {
            "text/plain": [
              "array([[1173,    0,    0,    0,    0,    0,    5,    0,    0,    3],\n",
              "       [   1, 1333,    4,    1,    3,    0,    2,    4,    1,    1],\n",
              "       [   0,    2, 1151,    2,    1,    0,    0,    4,    2,    0],\n",
              "       [   0,    0,    5, 1185,    0,    5,    0,    2,    4,    2],\n",
              "       [   2,    1,    0,    0, 1111,    0,    2,    2,    1,    5],\n",
              "       [   4,    1,    0,    5,    1, 1091,    7,    0,    5,    2],\n",
              "       [   3,    1,    1,    0,    3,    4, 1206,    0,    2,    1],\n",
              "       [   1,    3,   13,    4,    5,    0,    0, 1210,    3,   10],\n",
              "       [   9,    2,    8,    5,    2,    5,    6,    2, 1168,    3],\n",
              "       [   2,    0,    1,    1,    2,    1,    1,    6,    3, 1167]])"
            ]
          },
          "metadata": {},
          "execution_count": 27
        }
      ]
    },
    {
      "cell_type": "code",
      "source": [
        "plt.figure(figsize=(16, 10))\n",
        "sns.heatmap(matriz, annot=True, cmap='Blues')"
      ],
      "metadata": {
        "colab": {
          "base_uri": "https://localhost:8080/",
          "height": 800
        },
        "id": "HqSd0JorrO0p",
        "outputId": "44c51c9b-6dd6-4c7d-b26f-5b25a982445e"
      },
      "execution_count": null,
      "outputs": [
        {
          "output_type": "execute_result",
          "data": {
            "text/plain": [
              "<Axes: >"
            ]
          },
          "metadata": {},
          "execution_count": 35
        },
        {
          "output_type": "display_data",
          "data": {
            "text/plain": [
              "<Figure size 1600x1000 with 2 Axes>"
            ],
            "image/png": "[encoded data removed]"
          },
          "metadata": {}
        }
      ]
    },
    {
      "cell_type": "code",
      "source": [
        "model.save('model.keras')"
      ],
      "metadata": {
        "id": "vFZiOaFvrSyO"
      },
      "execution_count": null,
      "outputs": []
    },
    {
      "cell_type": "code",
      "source": [],
      "metadata": {
        "id": "XQWCKedVr4nX"
      },
      "execution_count": null,
      "outputs": []
    }
  ]
}